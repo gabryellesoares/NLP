{
  "nbformat": 4,
  "nbformat_minor": 0,
  "metadata": {
    "colab": {
      "name": "Classificação de Sátiras",
      "provenance": [],
      "mount_file_id": "1fdbcNNT2DwUiThA6sgpf2BzbN3dOxzHy",
      "authorship_tag": "ABX9TyNOPKKDv9zRbKgBsgu1LlQl",
      "include_colab_link": true
    },
    "kernelspec": {
      "name": "python3",
      "display_name": "Python 3"
    },
    "language_info": {
      "name": "python"
    }
  },
  "cells": [
    {
      "cell_type": "markdown",
      "metadata": {
        "id": "view-in-github",
        "colab_type": "text"
      },
      "source": [
        "<a href=\"https://colab.research.google.com/github/gabryellesoares/NLP/blob/main/Classifica%C3%A7%C3%A3o_de_S%C3%A1tiras.ipynb\" target=\"_parent\"><img src=\"https://colab.research.google.com/assets/colab-badge.svg\" alt=\"Open In Colab\"/></a>"
      ]
    },
    {
      "cell_type": "markdown",
      "source": [
        "# Classificação de Sátiras\n",
        "\n",
        "* Gabryelle Soares - 116210883"
      ],
      "metadata": {
        "id": "BkX1Sw5yFYFp"
      }
    },
    {
      "cell_type": "code",
      "execution_count": null,
      "metadata": {
        "colab": {
          "base_uri": "https://localhost:8080/"
        },
        "id": "R6w_BlRb5FoK",
        "outputId": "0862b116-5e37-468d-e96d-b09bbb18ee15"
      },
      "outputs": [
        {
          "output_type": "stream",
          "name": "stdout",
          "text": [
            "[nltk_data] Downloading package stopwords to /root/nltk_data...\n",
            "[nltk_data]   Package stopwords is already up-to-date!\n"
          ]
        }
      ],
      "source": [
        "import nltk\n",
        "import numpy as np\n",
        "import pandas as pd\n",
        "import seaborn as sns\n",
        "import matplotlib.pyplot as plt\n",
        "from sklearn import metrics\n",
        "from sklearn.naive_bayes import MultinomialNB\n",
        "from sklearn.metrics import classification_report\n",
        "from sklearn.linear_model import LogisticRegression\n",
        "from sklearn.model_selection import train_test_split\n",
        "from sklearn.feature_extraction.text import CountVectorizer\n",
        "from sklearn.feature_extraction.text import TfidfVectorizer\n",
        "from nltk.corpus import stopwords\n",
        "from nltk.tokenize import RegexpTokenizer\n",
        "\n",
        "nltk.download('stopwords')\n",
        "sns.set(color_codes=True)"
      ]
    },
    {
      "cell_type": "code",
      "source": [
        "df = pd.read_csv(\"/content/drive/MyDrive/Colab Notebooks/csv_satiras_reais.csv\")\n",
        "df.head()"
      ],
      "metadata": {
        "colab": {
          "base_uri": "https://localhost:8080/",
          "height": 204
        },
        "id": "RTWG9kn359cN",
        "outputId": "776e533a-1292-44a0-bbf5-79ea6dd6e876"
      },
      "execution_count": null,
      "outputs": [
        {
          "output_type": "execute_result",
          "data": {
            "text/html": [
              "\n",
              "  <div id=\"df-37c469b5-5031-4457-aca0-da1c461ecfd6\">\n",
              "    <div class=\"colab-df-container\">\n",
              "      <div>\n",
              "<style scoped>\n",
              "    .dataframe tbody tr th:only-of-type {\n",
              "        vertical-align: middle;\n",
              "    }\n",
              "\n",
              "    .dataframe tbody tr th {\n",
              "        vertical-align: top;\n",
              "    }\n",
              "\n",
              "    .dataframe thead th {\n",
              "        text-align: right;\n",
              "    }\n",
              "</style>\n",
              "<table border=\"1\" class=\"dataframe\">\n",
              "  <thead>\n",
              "    <tr style=\"text-align: right;\">\n",
              "      <th></th>\n",
              "      <th>title</th>\n",
              "      <th>text</th>\n",
              "      <th>label</th>\n",
              "    </tr>\n",
              "  </thead>\n",
              "  <tbody>\n",
              "    <tr>\n",
              "      <th>0</th>\n",
              "      <td>crise e tao grande que nem tiozao do pave fez...</td>\n",
              "      <td>a familia guimaraes passou a noite de natal pe...</td>\n",
              "      <td>satire</td>\n",
              "    </tr>\n",
              "    <tr>\n",
              "      <th>1</th>\n",
              "      <td>nao me representam diz jesus sobre intolerant...</td>\n",
              "      <td>uma menina de 11 anos apedrejada ao sair de um...</td>\n",
              "      <td>satire</td>\n",
              "    </tr>\n",
              "    <tr>\n",
              "      <th>2</th>\n",
              "      <td>marina silva e heloisa helena montam novo par...</td>\n",
              "      <td>insatisfeitas com seus partidos com as siglas ...</td>\n",
              "      <td>satire</td>\n",
              "    </tr>\n",
              "    <tr>\n",
              "      <th>3</th>\n",
              "      <td>dez propostas que podem realmente mudar o brasil</td>\n",
              "      <td>o instituto nupal nucleo de pesquisas da ameri...</td>\n",
              "      <td>satire</td>\n",
              "    </tr>\n",
              "    <tr>\n",
              "      <th>4</th>\n",
              "      <td>apresentadora do cidade alerta bahia dara cur...</td>\n",
              "      <td>assassinatos sequestros mortes violentas.  nen...</td>\n",
              "      <td>satire</td>\n",
              "    </tr>\n",
              "  </tbody>\n",
              "</table>\n",
              "</div>\n",
              "      <button class=\"colab-df-convert\" onclick=\"convertToInteractive('df-37c469b5-5031-4457-aca0-da1c461ecfd6')\"\n",
              "              title=\"Convert this dataframe to an interactive table.\"\n",
              "              style=\"display:none;\">\n",
              "        \n",
              "  <svg xmlns=\"http://www.w3.org/2000/svg\" height=\"24px\"viewBox=\"0 0 24 24\"\n",
              "       width=\"24px\">\n",
              "    <path d=\"M0 0h24v24H0V0z\" fill=\"none\"/>\n",
              "    <path d=\"M18.56 5.44l.94 2.06.94-2.06 2.06-.94-2.06-.94-.94-2.06-.94 2.06-2.06.94zm-11 1L8.5 8.5l.94-2.06 2.06-.94-2.06-.94L8.5 2.5l-.94 2.06-2.06.94zm10 10l.94 2.06.94-2.06 2.06-.94-2.06-.94-.94-2.06-.94 2.06-2.06.94z\"/><path d=\"M17.41 7.96l-1.37-1.37c-.4-.4-.92-.59-1.43-.59-.52 0-1.04.2-1.43.59L10.3 9.45l-7.72 7.72c-.78.78-.78 2.05 0 2.83L4 21.41c.39.39.9.59 1.41.59.51 0 1.02-.2 1.41-.59l7.78-7.78 2.81-2.81c.8-.78.8-2.07 0-2.86zM5.41 20L4 18.59l7.72-7.72 1.47 1.35L5.41 20z\"/>\n",
              "  </svg>\n",
              "      </button>\n",
              "      \n",
              "  <style>\n",
              "    .colab-df-container {\n",
              "      display:flex;\n",
              "      flex-wrap:wrap;\n",
              "      gap: 12px;\n",
              "    }\n",
              "\n",
              "    .colab-df-convert {\n",
              "      background-color: #E8F0FE;\n",
              "      border: none;\n",
              "      border-radius: 50%;\n",
              "      cursor: pointer;\n",
              "      display: none;\n",
              "      fill: #1967D2;\n",
              "      height: 32px;\n",
              "      padding: 0 0 0 0;\n",
              "      width: 32px;\n",
              "    }\n",
              "\n",
              "    .colab-df-convert:hover {\n",
              "      background-color: #E2EBFA;\n",
              "      box-shadow: 0px 1px 2px rgba(60, 64, 67, 0.3), 0px 1px 3px 1px rgba(60, 64, 67, 0.15);\n",
              "      fill: #174EA6;\n",
              "    }\n",
              "\n",
              "    [theme=dark] .colab-df-convert {\n",
              "      background-color: #3B4455;\n",
              "      fill: #D2E3FC;\n",
              "    }\n",
              "\n",
              "    [theme=dark] .colab-df-convert:hover {\n",
              "      background-color: #434B5C;\n",
              "      box-shadow: 0px 1px 3px 1px rgba(0, 0, 0, 0.15);\n",
              "      filter: drop-shadow(0px 1px 2px rgba(0, 0, 0, 0.3));\n",
              "      fill: #FFFFFF;\n",
              "    }\n",
              "  </style>\n",
              "\n",
              "      <script>\n",
              "        const buttonEl =\n",
              "          document.querySelector('#df-37c469b5-5031-4457-aca0-da1c461ecfd6 button.colab-df-convert');\n",
              "        buttonEl.style.display =\n",
              "          google.colab.kernel.accessAllowed ? 'block' : 'none';\n",
              "\n",
              "        async function convertToInteractive(key) {\n",
              "          const element = document.querySelector('#df-37c469b5-5031-4457-aca0-da1c461ecfd6');\n",
              "          const dataTable =\n",
              "            await google.colab.kernel.invokeFunction('convertToInteractive',\n",
              "                                                     [key], {});\n",
              "          if (!dataTable) return;\n",
              "\n",
              "          const docLinkHtml = 'Like what you see? Visit the ' +\n",
              "            '<a target=\"_blank\" href=https://colab.research.google.com/notebooks/data_table.ipynb>data table notebook</a>'\n",
              "            + ' to learn more about interactive tables.';\n",
              "          element.innerHTML = '';\n",
              "          dataTable['output_type'] = 'display_data';\n",
              "          await google.colab.output.renderOutput(dataTable, element);\n",
              "          const docLink = document.createElement('div');\n",
              "          docLink.innerHTML = docLinkHtml;\n",
              "          element.appendChild(docLink);\n",
              "        }\n",
              "      </script>\n",
              "    </div>\n",
              "  </div>\n",
              "  "
            ],
            "text/plain": [
              "                                               title  \\\n",
              "0   crise e tao grande que nem tiozao do pave fez...   \n",
              "1   nao me representam diz jesus sobre intolerant...   \n",
              "2   marina silva e heloisa helena montam novo par...   \n",
              "3   dez propostas que podem realmente mudar o brasil   \n",
              "4   apresentadora do cidade alerta bahia dara cur...   \n",
              "\n",
              "                                                text   label  \n",
              "0  a familia guimaraes passou a noite de natal pe...  satire  \n",
              "1  uma menina de 11 anos apedrejada ao sair de um...  satire  \n",
              "2  insatisfeitas com seus partidos com as siglas ...  satire  \n",
              "3  o instituto nupal nucleo de pesquisas da ameri...  satire  \n",
              "4  assassinatos sequestros mortes violentas.  nen...  satire  "
            ]
          },
          "metadata": {},
          "execution_count": 2
        }
      ]
    },
    {
      "cell_type": "code",
      "source": [
        "dist = df.groupby([\"label\"]).size()\n",
        "\n",
        "fig, ax = plt.subplots(figsize=(12,8))\n",
        "sns.barplot(dist.keys(), dist.values);"
      ],
      "metadata": {
        "colab": {
          "base_uri": "https://localhost:8080/",
          "height": 556
        },
        "id": "phghKZfj9rqU",
        "outputId": "0cfe35fb-d1bb-4add-838a-d03e8539b898"
      },
      "execution_count": null,
      "outputs": [
        {
          "output_type": "stream",
          "name": "stderr",
          "text": [
            "/usr/local/lib/python3.7/dist-packages/seaborn/_decorators.py:43: FutureWarning: Pass the following variables as keyword args: x, y. From version 0.12, the only valid positional argument will be `data`, and passing other arguments without an explicit keyword will result in an error or misinterpretation.\n",
            "  FutureWarning\n"
          ]
        },
        {
          "output_type": "display_data",
          "data": {
            "image/png": "[encoded data removed]",
            "text/plain": [
              "<Figure size 864x576 with 1 Axes>"
            ]
          },
          "metadata": {
            "needs_background": "light"
          }
        }
      ]
    },
    {
      "cell_type": "markdown",
      "source": [
        "# TF"
      ],
      "metadata": {
        "id": "wesyP4IinKsp"
      }
    },
    {
      "cell_type": "markdown",
      "source": [
        "## Títulos"
      ],
      "metadata": {
        "id": "mNsyTZDVnStd"
      }
    },
    {
      "cell_type": "code",
      "source": [
        "token = RegexpTokenizer(r'[a-zA-Z0-9]+')\n",
        "\n",
        "cv = CountVectorizer(stop_words=stopwords.words('portuguese'), ngram_range=(1,2), tokenizer=token.tokenize, min_df=5, max_df=0.8)\n",
        "title_counts = cv.fit_transform(df['title'])"
      ],
      "metadata": {
        "colab": {
          "base_uri": "https://localhost:8080/"
        },
        "id": "mOEpzxLk_bap",
        "outputId": "cddbb3bb-b3f6-4068-9f9c-ce3495d8ec48"
      },
      "execution_count": null,
      "outputs": [
        {
          "output_type": "stream",
          "name": "stderr",
          "text": [
            "/usr/local/lib/python3.7/dist-packages/sklearn/feature_extraction/text.py:401: UserWarning: Your stop_words may be inconsistent with your preprocessing. Tokenizing the stop words generated tokens ['amos', 'at', 'est', 'estiv', 'f', 'h', 'houv', 'j', 'm', 'n', 'nhamos', 'ramos', 's', 'ser', 'ssemos', 't', 'tamb', 'ter', 'tiv', 'vamos', 'voc'] not in stop_words.\n",
            "  % sorted(inconsistent)\n"
          ]
        }
      ]
    },
    {
      "cell_type": "code",
      "source": [
        "title_counts.shape"
      ],
      "metadata": {
        "colab": {
          "base_uri": "https://localhost:8080/"
        },
        "id": "Bb14-8cNBki5",
        "outputId": "e839940e-84d3-49b7-857e-6842efbdccc2"
      },
      "execution_count": null,
      "outputs": [
        {
          "output_type": "execute_result",
          "data": {
            "text/plain": [
              "(10000, 3659)"
            ]
          },
          "metadata": {},
          "execution_count": 5
        }
      ]
    },
    {
      "cell_type": "code",
      "source": [
        "X_train, X_test, Y_train, Y_test = train_test_split(title_counts, df['label'], test_size=0.25, random_state=5)"
      ],
      "metadata": {
        "id": "IJGyPReiD0cD"
      },
      "execution_count": null,
      "outputs": []
    },
    {
      "cell_type": "markdown",
      "source": [
        "### Naïve Bayes: verificando a acurácia\n"
      ],
      "metadata": {
        "id": "sx9WZ1abpDhn"
      }
    },
    {
      "cell_type": "code",
      "source": [
        "MNB = MultinomialNB()\n",
        "MNB.fit(X_train, Y_train)\n",
        "\n",
        "MNB_predicted = MNB.predict(X_test)\n",
        "MNB_accuracy_score = metrics.accuracy_score(MNB_predicted, Y_test)\n",
        "\n",
        "print(str('{:04.2f}'.format(MNB_accuracy_score * 100)) + '%')"
      ],
      "metadata": {
        "colab": {
          "base_uri": "https://localhost:8080/"
        },
        "id": "BYOHLbXUFRxp",
        "outputId": "4f5c4e09-a95d-41fa-ed56-2a899cd3a41f"
      },
      "execution_count": null,
      "outputs": [
        {
          "output_type": "stream",
          "name": "stdout",
          "text": [
            "86.96%\n"
          ]
        }
      ]
    },
    {
      "cell_type": "markdown",
      "source": [
        "### Logistic Regression: verificando a acurácia"
      ],
      "metadata": {
        "id": "OO9Cr9q-pHYd"
      }
    },
    {
      "cell_type": "code",
      "source": [
        "LR = LogisticRegression()\n",
        "LR.fit(X_train, Y_train)\n",
        "\n",
        "LR_predicted = LR.predict(X_test)\n",
        "LR_accuracy_score = metrics.accuracy_score(LR_predicted, Y_test)\n",
        "\n",
        "print(str('{:04.2f}'.format(LR_accuracy_score * 100)) + '%')"
      ],
      "metadata": {
        "colab": {
          "base_uri": "https://localhost:8080/"
        },
        "id": "WyFKuqnUNWy4",
        "outputId": "6838a982-462f-4421-d3aa-8fa46be2740d"
      },
      "execution_count": null,
      "outputs": [
        {
          "output_type": "stream",
          "name": "stdout",
          "text": [
            "86.72%\n"
          ]
        }
      ]
    },
    {
      "cell_type": "markdown",
      "source": [
        "## Textos"
      ],
      "metadata": {
        "id": "K1jEQ-u1PuVI"
      }
    },
    {
      "cell_type": "code",
      "source": [
        "cv2 = CountVectorizer(stop_words=stopwords.words('portuguese'), ngram_range = (1,2), tokenizer=token.tokenize, min_df=10, max_df=0.8)\n",
        "text_counts = cv2.fit_transform(df['text'])"
      ],
      "metadata": {
        "colab": {
          "base_uri": "https://localhost:8080/"
        },
        "id": "GCHQGt3OPtqV",
        "outputId": "ebd2812f-c8ab-4d9d-cf75-1de5ce39cc64"
      },
      "execution_count": null,
      "outputs": [
        {
          "output_type": "stream",
          "name": "stderr",
          "text": [
            "/usr/local/lib/python3.7/dist-packages/sklearn/feature_extraction/text.py:401: UserWarning: Your stop_words may be inconsistent with your preprocessing. Tokenizing the stop words generated tokens ['amos', 'at', 'est', 'estiv', 'f', 'h', 'houv', 'j', 'm', 'n', 'nhamos', 'ramos', 's', 'ser', 'ssemos', 't', 'tamb', 'ter', 'tiv', 'vamos', 'voc'] not in stop_words.\n",
            "  % sorted(inconsistent)\n"
          ]
        }
      ]
    },
    {
      "cell_type": "code",
      "source": [
        "text_counts.shape"
      ],
      "metadata": {
        "colab": {
          "base_uri": "https://localhost:8080/"
        },
        "id": "uxgPR0jhQE4q",
        "outputId": "92b30116-00c0-40d3-eb03-630beb6c5db5"
      },
      "execution_count": null,
      "outputs": [
        {
          "output_type": "execute_result",
          "data": {
            "text/plain": [
              "(10000, 24969)"
            ]
          },
          "metadata": {},
          "execution_count": 10
        }
      ]
    },
    {
      "cell_type": "code",
      "source": [
        "X_train2, X_test2, Y_train2, Y_test2 = train_test_split(text_counts, df['label'], test_size=0.25, random_state=5)"
      ],
      "metadata": {
        "id": "3IH9PPHjQQGk"
      },
      "execution_count": null,
      "outputs": []
    },
    {
      "cell_type": "markdown",
      "source": [
        "### Naïve Bayes: verificando a acurácia"
      ],
      "metadata": {
        "id": "8GbFGNaypVcd"
      }
    },
    {
      "cell_type": "code",
      "source": [
        "MNB2 = MultinomialNB()\n",
        "MNB2.fit(X_train2, Y_train2)\n",
        "\n",
        "MNB_predicted2 = MNB2.predict(X_test2)\n",
        "MNB_accuracy_score2 = metrics.accuracy_score(MNB_predicted2, Y_test2)\n",
        "\n",
        "print(str('{:04.2f}'.format(MNB_accuracy_score2 * 100)) + '%')"
      ],
      "metadata": {
        "colab": {
          "base_uri": "https://localhost:8080/"
        },
        "id": "503Em5psRTAg",
        "outputId": "f389a1dd-2b5a-4789-f70a-5d0f931264bc"
      },
      "execution_count": null,
      "outputs": [
        {
          "output_type": "stream",
          "name": "stdout",
          "text": [
            "95.72%\n"
          ]
        }
      ]
    },
    {
      "cell_type": "markdown",
      "source": [
        "### Logistic Regression: verificando a acurácia"
      ],
      "metadata": {
        "id": "id_pRNX1pY_H"
      }
    },
    {
      "cell_type": "code",
      "source": [
        "LR2 = LogisticRegression()\n",
        "LR2.fit(X_train2, Y_train2)\n",
        "\n",
        "LR_predicted2 = LR2.predict(X_test2)\n",
        "LR_accuracy_score2 = metrics.accuracy_score(LR_predicted2, Y_test2)\n",
        "\n",
        "print(str('{:04.2f}'.format(LR_accuracy_score2 * 100)) + '%')"
      ],
      "metadata": {
        "colab": {
          "base_uri": "https://localhost:8080/"
        },
        "id": "evkNLZKHRlpQ",
        "outputId": "f6590901-5f0c-48a3-fd11-b82356944699"
      },
      "execution_count": null,
      "outputs": [
        {
          "output_type": "stream",
          "name": "stdout",
          "text": [
            "98.28%\n"
          ]
        }
      ]
    },
    {
      "cell_type": "markdown",
      "source": [
        "## Títulos + textos"
      ],
      "metadata": {
        "id": "NPc1AMaBSG8q"
      }
    },
    {
      "cell_type": "code",
      "source": [
        "cv3 = CountVectorizer(stop_words=stopwords.words('portuguese'), ngram_range=(1,2), tokenizer=token.tokenize, min_df=10, max_df=0.8)\n",
        "title_text_counts = cv3.fit_transform(df['title'] + \" \" + df['text'])"
      ],
      "metadata": {
        "colab": {
          "base_uri": "https://localhost:8080/"
        },
        "id": "eKtI9Nf0RleS",
        "outputId": "1608058a-2f7a-41fc-91b6-73ee5046aca9"
      },
      "execution_count": null,
      "outputs": [
        {
          "output_type": "stream",
          "name": "stderr",
          "text": [
            "/usr/local/lib/python3.7/dist-packages/sklearn/feature_extraction/text.py:401: UserWarning: Your stop_words may be inconsistent with your preprocessing. Tokenizing the stop words generated tokens ['amos', 'at', 'est', 'estiv', 'f', 'h', 'houv', 'j', 'm', 'n', 'nhamos', 'ramos', 's', 'ser', 'ssemos', 't', 'tamb', 'ter', 'tiv', 'vamos', 'voc'] not in stop_words.\n",
            "  % sorted(inconsistent)\n"
          ]
        }
      ]
    },
    {
      "cell_type": "code",
      "source": [
        "title_text_counts.shape"
      ],
      "metadata": {
        "colab": {
          "base_uri": "https://localhost:8080/"
        },
        "id": "iss3RCcySKcr",
        "outputId": "fa59425a-0922-4513-db51-2bd33042b44d"
      },
      "execution_count": null,
      "outputs": [
        {
          "output_type": "execute_result",
          "data": {
            "text/plain": [
              "(10000, 25659)"
            ]
          },
          "metadata": {},
          "execution_count": 15
        }
      ]
    },
    {
      "cell_type": "code",
      "source": [
        "X_train3, X_test3, Y_train3, Y_test3 = train_test_split(title_text_counts, df['label'], test_size=0.25, random_state=5)"
      ],
      "metadata": {
        "id": "BSDC2iZGSKXs"
      },
      "execution_count": null,
      "outputs": []
    },
    {
      "cell_type": "markdown",
      "source": [
        "### Naïve Bayes: verificando a acurácia"
      ],
      "metadata": {
        "id": "DKnBw3bwpj4s"
      }
    },
    {
      "cell_type": "code",
      "source": [
        "MNB3 = MultinomialNB()\n",
        "MNB3.fit(X_train3, Y_train3)\n",
        "\n",
        "MNB_predicted3 = MNB3.predict(X_test3)\n",
        "MNB_accuracy_score3 = metrics.accuracy_score(MNB_predicted3, Y_test3)\n",
        "\n",
        "print(str('{:04.2f}'.format(MNB_accuracy_score3 * 100)) + '%')"
      ],
      "metadata": {
        "colab": {
          "base_uri": "https://localhost:8080/"
        },
        "id": "gCiV43mNSKUU",
        "outputId": "94b720b2-aca0-456e-eff6-2c83c041ea8f"
      },
      "execution_count": null,
      "outputs": [
        {
          "output_type": "stream",
          "name": "stdout",
          "text": [
            "95.92%\n"
          ]
        }
      ]
    },
    {
      "cell_type": "markdown",
      "source": [
        "### Logistic Regression: verificando a acurácia"
      ],
      "metadata": {
        "id": "w26wFUO9ppeL"
      }
    },
    {
      "cell_type": "code",
      "source": [
        "LR3 = LogisticRegression()\n",
        "LR3.fit(X_train3, Y_train3)\n",
        "\n",
        "LR_predicted3 = LR3.predict(X_test3)\n",
        "LR_accuracy_score3 = metrics.accuracy_score(LR_predicted3, Y_test3)\n",
        "\n",
        "print(str('{:04.2f}'.format(LR_accuracy_score3 * 100)) + '%')"
      ],
      "metadata": {
        "colab": {
          "base_uri": "https://localhost:8080/"
        },
        "id": "A3bodByTWhKF",
        "outputId": "0f93587f-9b90-43b0-9256-856dcd9e3a64"
      },
      "execution_count": null,
      "outputs": [
        {
          "output_type": "stream",
          "name": "stdout",
          "text": [
            "98.24%\n"
          ]
        }
      ]
    },
    {
      "cell_type": "markdown",
      "source": [
        "# TF-IDF"
      ],
      "metadata": {
        "id": "jT22p1s4YyOy"
      }
    },
    {
      "cell_type": "markdown",
      "source": [
        "## Títulos"
      ],
      "metadata": {
        "id": "iLAtYP6yfIqT"
      }
    },
    {
      "cell_type": "code",
      "source": [
        "tfv = TfidfVectorizer(stop_words=stopwords.words('portuguese'), ngram_range=(1,3), max_features=None, tokenizer=token.tokenize, min_df=5, max_df=0.8)\n",
        "\n",
        "tfv_title_counts = tfv.fit_transform(df['title'])"
      ],
      "metadata": {
        "colab": {
          "base_uri": "https://localhost:8080/"
        },
        "id": "ZxLA6TEOXf7Y",
        "outputId": "376a7ad9-0e3f-4973-fc68-cf5f7840f605"
      },
      "execution_count": null,
      "outputs": [
        {
          "output_type": "stream",
          "name": "stderr",
          "text": [
            "/usr/local/lib/python3.7/dist-packages/sklearn/feature_extraction/text.py:401: UserWarning: Your stop_words may be inconsistent with your preprocessing. Tokenizing the stop words generated tokens ['amos', 'at', 'est', 'estiv', 'f', 'h', 'houv', 'j', 'm', 'n', 'nhamos', 'ramos', 's', 'ser', 'ssemos', 't', 'tamb', 'ter', 'tiv', 'vamos', 'voc'] not in stop_words.\n",
            "  % sorted(inconsistent)\n"
          ]
        }
      ]
    },
    {
      "cell_type": "code",
      "source": [
        "tfv_title_counts.shape"
      ],
      "metadata": {
        "colab": {
          "base_uri": "https://localhost:8080/"
        },
        "id": "6juN2g3kZ70t",
        "outputId": "22f83b31-5a59-427f-854b-0762b9a4c945"
      },
      "execution_count": null,
      "outputs": [
        {
          "output_type": "execute_result",
          "data": {
            "text/plain": [
              "(10000, 3696)"
            ]
          },
          "metadata": {},
          "execution_count": 20
        }
      ]
    },
    {
      "cell_type": "code",
      "source": [
        "X_train4, X_test4, Y_train4, Y_test4 = train_test_split(tfv_title_counts, df['label'], test_size=0.25, random_state=5)"
      ],
      "metadata": {
        "id": "g4M0W4rpZ8H9"
      },
      "execution_count": null,
      "outputs": []
    },
    {
      "cell_type": "markdown",
      "source": [
        "### Naïve Bayes: verificando a acurácia"
      ],
      "metadata": {
        "id": "QONngPH9p0GQ"
      }
    },
    {
      "cell_type": "code",
      "source": [
        "MNB4 = MultinomialNB()\n",
        "MNB4.fit(X_train4, Y_train4)\n",
        "\n",
        "MNB_predicted4 = MNB4.predict(X_test4)\n",
        "MNB_accuracy_score4 = metrics.accuracy_score(MNB_predicted4, Y_test4)\n",
        "\n",
        "print(str('{:04.2f}'.format(MNB_accuracy_score4 * 100)) + '%')"
      ],
      "metadata": {
        "colab": {
          "base_uri": "https://localhost:8080/"
        },
        "id": "Tanp0YqvZ7g4",
        "outputId": "5074618a-24f7-45c2-94b1-bb3b855e44f6"
      },
      "execution_count": null,
      "outputs": [
        {
          "output_type": "stream",
          "name": "stdout",
          "text": [
            "86.00%\n"
          ]
        }
      ]
    },
    {
      "cell_type": "markdown",
      "source": [
        "### Logistic Regression: verificando a acurácia"
      ],
      "metadata": {
        "id": "146Ebrc6qIo4"
      }
    },
    {
      "cell_type": "code",
      "source": [
        "LR4 = LogisticRegression()\n",
        "LR4.fit(X_train4, Y_train4)\n",
        "\n",
        "LR_predicted4 = LR4.predict(X_test4)\n",
        "LR_accuracy_score4 = metrics.accuracy_score(LR_predicted4, Y_test4)\n",
        "\n",
        "print(str('{:04.2f}'.format(LR_accuracy_score4 * 100)) + '%')"
      ],
      "metadata": {
        "colab": {
          "base_uri": "https://localhost:8080/"
        },
        "id": "ntN_KcPSawSK",
        "outputId": "90dc9519-da40-4f34-f99b-1bffcc6110b9"
      },
      "execution_count": null,
      "outputs": [
        {
          "output_type": "stream",
          "name": "stdout",
          "text": [
            "86.24%\n"
          ]
        }
      ]
    },
    {
      "cell_type": "markdown",
      "source": [
        "## Textos"
      ],
      "metadata": {
        "id": "fCAO8X2FfGT0"
      }
    },
    {
      "cell_type": "code",
      "source": [
        "tfv2 = TfidfVectorizer(stop_words=stopwords.words('portuguese'), ngram_range=(1,3), max_features=None, tokenizer=token.tokenize, min_df=10, max_df=0.8)\n",
        "\n",
        "tfv_text_counts = tfv2.fit_transform(df['text'])"
      ],
      "metadata": {
        "colab": {
          "base_uri": "https://localhost:8080/"
        },
        "id": "m-97V-E7fL3C",
        "outputId": "61703fc4-bc67-4ab2-a7d2-8d42ef18452b"
      },
      "execution_count": null,
      "outputs": [
        {
          "output_type": "stream",
          "name": "stderr",
          "text": [
            "/usr/local/lib/python3.7/dist-packages/sklearn/feature_extraction/text.py:401: UserWarning: Your stop_words may be inconsistent with your preprocessing. Tokenizing the stop words generated tokens ['amos', 'at', 'est', 'estiv', 'f', 'h', 'houv', 'j', 'm', 'n', 'nhamos', 'ramos', 's', 'ser', 'ssemos', 't', 'tamb', 'ter', 'tiv', 'vamos', 'voc'] not in stop_words.\n",
            "  % sorted(inconsistent)\n"
          ]
        }
      ]
    },
    {
      "cell_type": "code",
      "source": [
        "tfv_text_counts.shape"
      ],
      "metadata": {
        "colab": {
          "base_uri": "https://localhost:8080/"
        },
        "id": "JSJjJ1ucfrA-",
        "outputId": "385a9a16-fcaf-4098-aad6-9f8aa8472ae6"
      },
      "execution_count": null,
      "outputs": [
        {
          "output_type": "execute_result",
          "data": {
            "text/plain": [
              "(10000, 27594)"
            ]
          },
          "metadata": {},
          "execution_count": 25
        }
      ]
    },
    {
      "cell_type": "code",
      "source": [
        "X_train5, X_test5, Y_train5, Y_test5 = train_test_split(text_counts, df['label'], test_size=0.25, random_state=5)"
      ],
      "metadata": {
        "id": "GNG1wKywfrDN"
      },
      "execution_count": null,
      "outputs": []
    },
    {
      "cell_type": "markdown",
      "source": [
        "### Naïve Bayes: verificando a acurácia"
      ],
      "metadata": {
        "id": "R-J1VODZqPiw"
      }
    },
    {
      "cell_type": "code",
      "source": [
        "MNB5 = MultinomialNB()\n",
        "MNB5.fit(X_train5, Y_train5)\n",
        "\n",
        "MNB_predicted5 = MNB5.predict(X_test5)\n",
        "MNB_accuracy_score5 = metrics.accuracy_score(MNB_predicted5, Y_test5)\n",
        "\n",
        "print(str('{:04.2f}'.format(MNB_accuracy_score5 * 100)) + '%')"
      ],
      "metadata": {
        "colab": {
          "base_uri": "https://localhost:8080/"
        },
        "id": "J9XWOYdFfrF-",
        "outputId": "20301bee-2aeb-4367-846c-7e887f09c20a"
      },
      "execution_count": null,
      "outputs": [
        {
          "output_type": "stream",
          "name": "stdout",
          "text": [
            "95.72%\n"
          ]
        }
      ]
    },
    {
      "cell_type": "markdown",
      "source": [
        "### Logistic Regression: verificando a acurácia"
      ],
      "metadata": {
        "id": "8rGFiyf9qSIM"
      }
    },
    {
      "cell_type": "code",
      "source": [
        "LR5 = LogisticRegression()\n",
        "LR5.fit(X_train5, Y_train5)\n",
        "\n",
        "LR_predicted5 = LR5.predict(X_test5)\n",
        "LR_accuracy_score5 = metrics.accuracy_score(LR_predicted5, Y_test5)\n",
        "\n",
        "print(str('{:04.2f}'.format(LR_accuracy_score5 * 100)) + '%')"
      ],
      "metadata": {
        "colab": {
          "base_uri": "https://localhost:8080/"
        },
        "id": "NN6xweI0frIo",
        "outputId": "5c5bc7ca-f7c7-43fc-a339-abeaf648d41f"
      },
      "execution_count": null,
      "outputs": [
        {
          "output_type": "stream",
          "name": "stdout",
          "text": [
            "98.28%\n"
          ]
        }
      ]
    },
    {
      "cell_type": "markdown",
      "source": [
        "## Títulos + textos"
      ],
      "metadata": {
        "id": "dkuzrTmpj5Q9"
      }
    },
    {
      "cell_type": "code",
      "source": [
        "tfv3 = TfidfVectorizer(stop_words=stopwords.words('portuguese'), ngram_range=(1,3), max_features=None, tokenizer=token.tokenize, min_df=10, max_df=0.8)\n",
        "\n",
        "tfv_title_text_counts = tfv3.fit_transform(df['title'] + ' ' + df['text'])"
      ],
      "metadata": {
        "colab": {
          "base_uri": "https://localhost:8080/"
        },
        "id": "FqX2Jr4Wj7z0",
        "outputId": "b441ef75-978f-44e6-a43d-b81bc3e545e1"
      },
      "execution_count": null,
      "outputs": [
        {
          "output_type": "stream",
          "name": "stderr",
          "text": [
            "/usr/local/lib/python3.7/dist-packages/sklearn/feature_extraction/text.py:401: UserWarning: Your stop_words may be inconsistent with your preprocessing. Tokenizing the stop words generated tokens ['amos', 'at', 'est', 'estiv', 'f', 'h', 'houv', 'j', 'm', 'n', 'nhamos', 'ramos', 's', 'ser', 'ssemos', 't', 'tamb', 'ter', 'tiv', 'vamos', 'voc'] not in stop_words.\n",
            "  % sorted(inconsistent)\n"
          ]
        }
      ]
    },
    {
      "cell_type": "code",
      "source": [
        "tfv_title_text_counts.shape"
      ],
      "metadata": {
        "colab": {
          "base_uri": "https://localhost:8080/"
        },
        "id": "zbOfF4oQj72N",
        "outputId": "7fbb3219-1773-412d-b377-dcbe569bab96"
      },
      "execution_count": null,
      "outputs": [
        {
          "output_type": "execute_result",
          "data": {
            "text/plain": [
              "(10000, 28346)"
            ]
          },
          "metadata": {},
          "execution_count": 30
        }
      ]
    },
    {
      "cell_type": "code",
      "source": [
        "X_train6, X_test6, Y_train6, Y_test6 = train_test_split(tfv_title_text_counts, df['label'], test_size=0.25, random_state=5)"
      ],
      "metadata": {
        "id": "BFDt1oEsj74_"
      },
      "execution_count": null,
      "outputs": []
    },
    {
      "cell_type": "markdown",
      "source": [
        "### Naïve Bayes: verificando a acurácia"
      ],
      "metadata": {
        "id": "6ISoWHsLqb1e"
      }
    },
    {
      "cell_type": "code",
      "source": [
        "MNB6 = MultinomialNB()\n",
        "MNB6.fit(X_train6, Y_train6)\n",
        "\n",
        "MNB_predicted6 = MNB6.predict(X_test6)\n",
        "MNB_accuracy_score6 = metrics.accuracy_score(MNB_predicted6, Y_test6)\n",
        "\n",
        "print(str('{:04.2f}'.format(MNB_accuracy_score6 * 100)) + '%')"
      ],
      "metadata": {
        "colab": {
          "base_uri": "https://localhost:8080/"
        },
        "id": "-z987c7Yj778",
        "outputId": "b23ad8ac-39f3-4401-c617-4ced33e81237"
      },
      "execution_count": null,
      "outputs": [
        {
          "output_type": "stream",
          "name": "stdout",
          "text": [
            "95.56%\n"
          ]
        }
      ]
    },
    {
      "cell_type": "markdown",
      "source": [
        "### Logistic Regression: verificando a acurácia"
      ],
      "metadata": {
        "id": "havdKQ0TqeTa"
      }
    },
    {
      "cell_type": "code",
      "source": [
        "LR6 = LogisticRegression()\n",
        "LR6.fit(X_train6, Y_train6)\n",
        "\n",
        "LR_predicted6 = LR6.predict(X_test6)\n",
        "LR_accuracy_score6 = metrics.accuracy_score(LR_predicted6, Y_test6)\n",
        "\n",
        "print(str('{:04.2f}'.format(LR_accuracy_score6 * 100)) + '%')"
      ],
      "metadata": {
        "colab": {
          "base_uri": "https://localhost:8080/"
        },
        "id": "fq090DJAj7-y",
        "outputId": "b74121c1-c7ef-4f45-f5a5-e3df82dff4bc"
      },
      "execution_count": null,
      "outputs": [
        {
          "output_type": "stream",
          "name": "stdout",
          "text": [
            "97.80%\n"
          ]
        }
      ]
    }
  ]
}